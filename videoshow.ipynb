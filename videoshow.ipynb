{
 "cells": [
  {
   "cell_type": "code",
   "execution_count": 1,
   "id": "c037d247-06c2-4930-9f94-db56f97e30a9",
   "metadata": {},
   "outputs": [],
   "source": [
    "import cv2"
   ]
  },
  {
   "cell_type": "code",
   "execution_count": 2,
   "id": "c6970fc1-e58f-4d36-8d14-6c41995f57af",
   "metadata": {},
   "outputs": [],
   "source": [
    "import numpy as np"
   ]
  },
  {
   "cell_type": "code",
   "execution_count": 3,
   "id": "64ad1225-227c-429a-8dbb-d3ad336fa34e",
   "metadata": {},
   "outputs": [],
   "source": [
    "video_path1=r'C:\\Users\\Amrit Pal\\cv2\\myvideo\\videogen.mp4'\n",
    "video_path2=r'C:\\Users\\Amrit Pal\\cv2\\myvideo\\Punjabivideo.mp4'"
   ]
  },
  {
   "cell_type": "code",
   "execution_count": 6,
   "id": "e8df43f2-e239-4362-b945-e66f490f5c1b",
   "metadata": {},
   "outputs": [],
   "source": [
    "#capture video\n",
    "cap1 = cv2.VideoCapture(video_path1)  #video is a collection of images\n",
    "#frame read\n",
    "while cap1.isOpened():\n",
    "    ret,frame=cap1.read() #ret gives true or false value ,frame give img\n",
    "    if ret: #jab ret ==true\n",
    "        img=cv2.resize(frame,(600,400))\n",
    "        cv2.imshow(\"vid1\",img)\n",
    "        if cv2.waitKey(25) & 0xff==ord('q'):  #means jab q press window close\n",
    "            break\n",
    "    else:\n",
    "        break\n",
    "cap1.release()\n",
    "cv2.destroyAllWindows()"
   ]
  },
  {
   "cell_type": "code",
   "execution_count": 9,
   "id": "ef9bf3dc-a253-400b-aadd-12cb4f78c042",
   "metadata": {},
   "outputs": [],
   "source": [
    "#capture video using camera there fore use path=0 for inbuilt camera and 1 or camera namefor other attached  secondary camera\n",
    "cap1 = cv2.VideoCapture(0)  #video is a collection of images\n",
    "#frame read\n",
    "while cap1.isOpened():\n",
    "    ret,frame=cap1.read() #ret gives true or false value ,frame give img\n",
    "    if ret: #jab ret ==true\n",
    "        img=cv2.resize(frame,(600,400))\n",
    "        cv2.imshow(\"vid1\",img)\n",
    "        if cv2.waitKey(25) & 0xff==ord('q'):  #means jab q press window close\n",
    "            break\n",
    "    else:\n",
    "        break\n",
    "cap1.release()\n",
    "cv2.destroyAllWindows()"
   ]
  },
  {
   "cell_type": "code",
   "execution_count": 10,
   "id": "99505072-b7b4-4a89-9154-daaf617c42ae",
   "metadata": {},
   "outputs": [],
   "source": [
    "#for playing 4 stack\n",
    "cap1 = cv2.VideoCapture(0)  #video is a collection of images\n",
    "#frame read\n",
    "while cap1.isOpened():\n",
    "    ret,frame=cap1.read() #ret gives true or false value ,frame give img\n",
    "    if ret: #jab ret ==true\n",
    "        img=cv2.resize(frame,(600,400))\n",
    "        img1=np.vstack((img,img))\n",
    "        img2=np.hstack((img1,img1))\n",
    "        cv2.imshow(\"vid1\",img2)\n",
    "        if cv2.waitKey(25) & 0xff==ord('q'):  #means jab q press window close\n",
    "            break\n",
    "    else:\n",
    "        break\n",
    "cap1.release()\n",
    "cv2.destroyAllWindows()"
   ]
  },
  {
   "cell_type": "code",
   "execution_count": 4,
   "id": "f851532a-f384-4da7-ac7d-8dafecb85542",
   "metadata": {},
   "outputs": [
    {
     "ename": "error",
     "evalue": "OpenCV(4.12.0) D:\\a\\opencv-python\\opencv-python\\opencv\\modules\\imgproc\\src\\resize.cpp:4208: error: (-215:Assertion failed) !ssize.empty() in function 'cv::resize'\n",
     "output_type": "error",
     "traceback": [
      "\u001b[31m---------------------------------------------------------------------------\u001b[39m",
      "\u001b[31merror\u001b[39m                                     Traceback (most recent call last)",
      "\u001b[36mCell\u001b[39m\u001b[36m \u001b[39m\u001b[32mIn[4]\u001b[39m\u001b[32m, line 11\u001b[39m\n\u001b[32m      9\u001b[39m \u001b[38;5;28;01mif\u001b[39;00m ret1: \u001b[38;5;66;03m#jab ret ==true\u001b[39;00m\n\u001b[32m     10\u001b[39m     img1=cv2.resize(frame1,(\u001b[32m600\u001b[39m,\u001b[32m400\u001b[39m))\n\u001b[32m---> \u001b[39m\u001b[32m11\u001b[39m     img2=\u001b[43mcv2\u001b[49m\u001b[43m.\u001b[49m\u001b[43mresize\u001b[49m\u001b[43m(\u001b[49m\u001b[43mframe2\u001b[49m\u001b[43m,\u001b[49m\u001b[43m(\u001b[49m\u001b[32;43m600\u001b[39;49m\u001b[43m,\u001b[49m\u001b[32;43m400\u001b[39;49m\u001b[43m)\u001b[49m\u001b[43m)\u001b[49m\n\u001b[32m     12\u001b[39m     img3=cv2.resize(frame3,(\u001b[32m600\u001b[39m,\u001b[32m400\u001b[39m))\n\u001b[32m     13\u001b[39m     f1=np.hstack((img1,img2))\n",
      "\u001b[31merror\u001b[39m: OpenCV(4.12.0) D:\\a\\opencv-python\\opencv-python\\opencv\\modules\\imgproc\\src\\resize.cpp:4208: error: (-215:Assertion failed) !ssize.empty() in function 'cv::resize'\n"
     ]
    }
   ],
   "source": [
    "#for showing multiple\n",
    "cap1 = cv2.VideoCapture(0) \n",
    "cap2 = cv2.VideoCapture(video_path1) \n",
    "cap3 = cv2.VideoCapture(video_path2) \n",
    "while cap1.isOpened():\n",
    "    ret1,frame1=cap1.read() \n",
    "    ret2,frame2=cap2.read() \n",
    "    ret3,frame3=cap3.read() \n",
    "    if ret1: #jab ret ==true\n",
    "        img1=cv2.resize(frame1,(600,400))\n",
    "        img2=cv2.resize(frame2,(600,400))\n",
    "        img3=cv2.resize(frame3,(600,400))\n",
    "        f1=np.hstack((img1,img2))\n",
    "        f2=np.hstack((img3,img1))\n",
    "        f3=np.vstack((f1,f2))\n",
    "        cv2.imshow(\"videos\",f3)\n",
    "        if cv2.waitKey(25) & 0xff==ord('q'):  #means jab q press window close\n",
    "            break\n",
    "    else:\n",
    "        break\n",
    "cap1.release()\n",
    "cv2.destroyAllWindows()"
   ]
  },
  {
   "cell_type": "code",
   "execution_count": null,
   "id": "c16ce7ac-cc70-4fc9-9f68-d92c40581f25",
   "metadata": {},
   "outputs": [],
   "source": []
  }
 ],
 "metadata": {
  "kernelspec": {
   "display_name": "Python 3 (ipykernel)",
   "language": "python",
   "name": "python3"
  },
  "language_info": {
   "codemirror_mode": {
    "name": "ipython",
    "version": 3
   },
   "file_extension": ".py",
   "mimetype": "text/x-python",
   "name": "python",
   "nbconvert_exporter": "python",
   "pygments_lexer": "ipython3",
   "version": "3.13.1"
  }
 },
 "nbformat": 4,
 "nbformat_minor": 5
}
