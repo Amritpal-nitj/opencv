{
 "cells": [
  {
   "cell_type": "code",
   "execution_count": 11,
   "id": "bf91d1d1-8fcd-497c-b5c2-2df58be9692b",
   "metadata": {},
   "outputs": [],
   "source": [
    "import cv2"
   ]
  },
  {
   "cell_type": "code",
   "execution_count": 28,
   "id": "5e97d0f7-6348-4eb2-a409-f4e2f5273f89",
   "metadata": {},
   "outputs": [],
   "source": [
    "path=r\"\"\"C:\\Users\\Amrit Pal\\cv2\\myimages\"\"\"\n",
    "img_name=\"boyP.jpg\"\n",
    "img=cv2.imread(path+\"\\\\\"+img_name)\n",
    "cv2.imshow(\"img\",img) #in local environment but google collab uses cv2_imshow \n",
    "cv2.waitKey(1000)     \n",
    "cv2.destroyAllWindows()  #\"these two are required  in local environment not in google collab bcz google collab automatically close the img\""
   ]
  },
  {
   "cell_type": "code",
   "execution_count": 39,
   "id": "cc173a7c-9b63-46fd-9dd4-3a2469bcbc68",
   "metadata": {},
   "outputs": [],
   "source": [
    "#RESIZE IMG\n",
    "img=cv2.imread(path+\"\\\\\"+img_name)\n",
    "img=cv2.resize(img,(300,200))\n",
    "cv2.imshow(\"img\",img) \n",
    "cv2.waitKey(1000)     \n",
    "cv2.destroyAllWindows() \n"
   ]
  },
  {
   "cell_type": "code",
   "execution_count": 30,
   "id": "8accd9c0-823e-4cc1-8fdd-74edc698cecf",
   "metadata": {},
   "outputs": [],
   "source": [
    "import os"
   ]
  },
  {
   "cell_type": "code",
   "execution_count": 46,
   "id": "dfc736e2-1245-41ec-b26a-3a9162c5da07",
   "metadata": {},
   "outputs": [
    {
     "name": "stdout",
     "output_type": "stream",
     "text": [
      "Failed to load C:\\Users\\Amrit Pal\\cv2\\myimages\\smoldering-stare_960396-178604.jpg\n"
     ]
    }
   ],
   "source": [
    "#sliding images\n",
    "\n",
    "path=r\"\"\"C:\\Users\\Amrit Pal\\cv2\\myimages\"\"\"\n",
    "for imgname in imgnames:\n",
    "    \n",
    "    full_path=path+\"\\\\\"+imgname\n",
    "    img=cv2.imread(full_path)\n",
    "    if img is None:\n",
    "        print(f\"Failed to load {full_path}\")\n",
    "        continue\n",
    "    img=cv2.resize(img,(600,400))\n",
    "    cv2.imshow(\"img\",img) \n",
    "    cv2.waitKey(1000)     \n",
    "cv2.destroyAllWindows()"
   ]
  },
  {
   "cell_type": "code",
   "execution_count": 31,
   "id": "0d1bb7d7-93aa-4cd8-93af-41975f85ed96",
   "metadata": {},
   "outputs": [
    {
     "data": {
      "text/plain": [
       "['300px-ON-creature-Bear_03.jpg',\n",
       " 'boyP.jpg',\n",
       " 'ef303185fff637fbfc68001d2ef523cd.jpg',\n",
       " 'EsgX9Q5XUAA7H2n.jpg',\n",
       " 'futuristic-supercar-concept_849715-16402.jpg',\n",
       " 'OhhyIP.jpg',\n",
       " 'OhjIP.jpg',\n",
       " 'OIP.jpg',\n",
       " 'ojk.jpg',\n",
       " 'smoldering-stare_960396-178604.jpg']"
      ]
     },
     "execution_count": 31,
     "metadata": {},
     "output_type": "execute_result"
    }
   ],
   "source": [
    "imgnames=os.listdir(r\"\"\"C:\\Users\\Amrit Pal\\cv2\\myimages\"\"\")\n",
    "imgnames"
   ]
  },
  {
   "cell_type": "code",
   "execution_count": 47,
   "id": "c5c842c0-b0bd-428e-8e76-1cf7ea57a0a9",
   "metadata": {},
   "outputs": [
    {
     "name": "stdout",
     "output_type": "stream",
     "text": [
      "Failed to load C:\\Users\\Amrit Pal\\cv2\\myimages\\smoldering-stare_960396-178604.jpg\n"
     ]
    }
   ],
   "source": [
    "#sliding images using enter\n",
    "\n",
    "path=r\"\"\"C:\\Users\\Amrit Pal\\cv2\\myimages\"\"\"\n",
    "for imgname in imgnames:\n",
    "    \n",
    "    full_path=path+\"\\\\\"+imgname\n",
    "    img=cv2.imread(full_path)\n",
    "    if img is None:\n",
    "        print(f\"Failed to load {full_path}\")\n",
    "        continue\n",
    "    img=cv2.resize(img,(600,400))\n",
    "    cv2.imshow(\"img\",img) \n",
    "    cv2.waitKey(0)     \n",
    "cv2.destroyAllWindows()"
   ]
  },
  {
   "cell_type": "code",
   "execution_count": 48,
   "id": "d4382a26-2dfa-42e1-8d7f-c71ac141cb92",
   "metadata": {},
   "outputs": [],
   "source": [
    "import numpy as np"
   ]
  },
  {
   "cell_type": "code",
   "execution_count": 54,
   "id": "46434fc4-2a38-49f3-8481-869cd7ea468f",
   "metadata": {},
   "outputs": [
    {
     "name": "stdout",
     "output_type": "stream",
     "text": [
      "Failed to load C:\\Users\\Amrit Pal\\cv2\\myimages\\smoldering-stare_960396-178604.jpg\n"
     ]
    }
   ],
   "source": [
    "path=r\"\"\"C:\\Users\\Amrit Pal\\cv2\\myimages\"\"\"\n",
    "for imgname in imgnames:\n",
    "    \n",
    "    full_path=path+\"\\\\\"+imgname\n",
    "    img=cv2.imread(full_path)\n",
    "    if img is None:\n",
    "        print(f\"Failed to load {full_path}\")\n",
    "        continue\n",
    "    img=cv2.resize(img,(200,300))\n",
    "    img2=np.hstack((img,img,img))\n",
    "    img4=np.vstack((img2,img2))\n",
    "    cv2.imshow(\"img\",img4) \n",
    "    cv2.waitKey(1000)     \n",
    "cv2.destroyAllWindows()"
   ]
  },
  {
   "cell_type": "code",
   "execution_count": null,
   "id": "5e138aa0-853d-4bab-b7ae-498f83e7cdd9",
   "metadata": {},
   "outputs": [],
   "source": []
  }
 ],
 "metadata": {
  "kernelspec": {
   "display_name": "Python 3 (ipykernel)",
   "language": "python",
   "name": "python3"
  },
  "language_info": {
   "codemirror_mode": {
    "name": "ipython",
    "version": 3
   },
   "file_extension": ".py",
   "mimetype": "text/x-python",
   "name": "python",
   "nbconvert_exporter": "python",
   "pygments_lexer": "ipython3",
   "version": "3.13.1"
  }
 },
 "nbformat": 4,
 "nbformat_minor": 5
}
